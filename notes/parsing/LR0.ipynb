{
 "cells": [
  {
   "cell_type": "markdown",
   "id": "b968981f-82ff-433c-adf8-c9556f37acbc",
   "metadata": {},
   "source": [
    "# LR(0) parser demo\n"
   ]
  },
  {
   "cell_type": "markdown",
   "id": "dbb9da23-eca8-4949-829d-2a825444ab94",
   "metadata": {},
   "source": [
    "Here we show a demo of an LR(0) parser for the language\n",
    "```\n",
    "S -> E$\n",
    "E -> E+T\n",
    "E -> T\n",
    "T -> v\n",
    "T -> (E)\n",
    "```\n",
    "If the language isn't LR(0), then sometimes using the \"follow\" sets will be enough\n",
    "to resolve reduce-reduce conflicts, and this gives an SLR parser.\n",
    "\n",
    "If the language isn't SLR, then we can add a lookahead character to the LR(0) items\n",
    "and use the lookahead to resolve conflicts. Almost all computer languages are LR(1)\n",
    "but this can generate very large parsing tables.  LALR reduces the size of these tables\n",
    "by combining states which only differ in lookahead values, and these can be much smaller\n",
    "tables, but not every LR(1) language is LALR, that is, some conflicts may still arise\n",
    "when we combine similar states."
   ]
  },
  {
   "cell_type": "markdown",
   "id": "f46d2d54-781e-4fac-81ea-6cdbebd4916b",
   "metadata": {},
   "source": [
    "## Action table\n",
    "Below is the action table for the LR(0) parser.\n",
    "Here are the first few LR(0) states... You should draw the complete LR(0)\n",
    "graph which includes finding states 3 and 4\n",
    "Each of the states {0,1,2,3,4} is a set of LR(0) states.\n",
    "\n",
    "```\n",
    "0: \n",
    "S->.E$\n",
    "E->.E+T\n",
    "E->.T\n",
    "T->.v\n",
    "T->.(E)\n",
    "\n",
    "1:\n",
    "E->E.+T\n",
    "S->E.$\n",
    "\n",
    "2:\n",
    "E->E+.T\n",
    "T->.v\n",
    "T->(E)\n",
    "\n",
    "```\n",
    "and the table is below\n",
    "```\n",
    "                             next symbol\n",
    "state     v        +      (       )     $     F     T       E\n",
    "0       r(1,T)           s(3)                     r(1,E)   s(1)\n",
    "1                 s(2)                ACCEPT\n",
    "2       r(1,T)           s(3)                     r(3,E)\n",
    "3       r(1,T)           s(3)                     r(1,E)   s(4)\n",
    "4                 s(2)          r(3,T)\n",
    "```\n",
    "where r(i,N) means pop the top i-1 states off of the stack to get state s\n",
    "then use the table for state s and symbol N to see what action to perform\n",
    "and s(k) means shift the next terminal onto the stack and go to state k"
   ]
  },
  {
   "cell_type": "code",
   "execution_count": 32,
   "id": "47665706-256d-4d42-bdca-f20fc10b40c7",
   "metadata": {
    "tags": []
   },
   "outputs": [
    {
     "data": {
      "text/plain": [
       "{0: {'v': ('reduce', 1, 'T'),\n",
       "  '(': ('shift', 3),\n",
       "  '+': ('error',),\n",
       "  ')': ('error',),\n",
       "  '$': ('error',),\n",
       "  'T': ('reduce', 1, 'E'),\n",
       "  'E': ('shift', 1)},\n",
       " 1: {'+': ('shift', 2),\n",
       "  '$': ('accept',),\n",
       "  '(': ('error',),\n",
       "  ')': ('error',),\n",
       "  'v': ('error',)},\n",
       " 2: {'v': ('reduce', 1, 'T'),\n",
       "  '(': ('shift', 3),\n",
       "  '+': ('error',),\n",
       "  ')': ('error',),\n",
       "  '$': ('error',),\n",
       "  'T': ('reduce', 3, 'E')},\n",
       " 3: {'v': ('reduce', 1, 'T'),\n",
       "  '(': ('shift', 3),\n",
       "  '+': ('error',),\n",
       "  ')': ('error',),\n",
       "  '$': ('error',),\n",
       "  'T': ('reduce', 1, 'E'),\n",
       "  'E': ('shift', 4)},\n",
       " 4: {'+': ('shift', 2),\n",
       "  ')': ('reduce', 3, 'T'),\n",
       "  'v': ('error',),\n",
       "  '(': ('error',),\n",
       "  '$': ('error',)}}"
      ]
     },
     "execution_count": 32,
     "metadata": {},
     "output_type": "execute_result"
    }
   ],
   "source": [
    "actions = {\n",
    "    0:{'v':('reduce',1,'T'),\n",
    "       '(':('shift',3),\n",
    "       '+':('error',),\n",
    "       ')':('error',),\n",
    "       '$':('error',),\n",
    "       'T':('reduce',1,'E'),\n",
    "       'E':('shift',1),    \n",
    "      },\n",
    "    \n",
    "    1:{'+':('shift',2),\n",
    "       '$':('accept',),\n",
    "       '(':('error',),\n",
    "       ')':('error',),\n",
    "       'v':('error',)\n",
    "      },\n",
    "    \n",
    "    2:{'v':('reduce',1,'T'),\n",
    "       '(':('shift',3),\n",
    "       '+':('error',),\n",
    "       ')':('error',),\n",
    "       '$':('error',),\n",
    "       'T':('reduce',3,'E'),\n",
    "      },\n",
    "    \n",
    "    3:{'v':('reduce',1,'T'),\n",
    "       '(':('shift',3), \n",
    "       '+':('error',),\n",
    "       ')':('error',),\n",
    "       '$':('error',),      \n",
    "       'T':('reduce',1,'E'),\n",
    "       'E':('shift',4)\n",
    "      },\n",
    "    \n",
    "    4:{'+':('shift',2),\n",
    "       ')':('reduce',3,'T'),\n",
    "       'v':('error',),\n",
    "       '(':('error',),\n",
    "       '$':('error',)\n",
    "      }\n",
    "\n",
    "}\n",
    "actions"
   ]
  },
  {
   "cell_type": "markdown",
   "id": "598d1583-0cb7-4878-9bb7-fcc90323563a",
   "metadata": {},
   "source": [
    "# LR(0) parser\n",
    "Here is the code for an LR(0) parser which prints out a trace of its\n",
    "execution. "
   ]
  },
  {
   "cell_type": "code",
   "execution_count": 102,
   "id": "cb8e4475-127b-4164-8496-649482bea118",
   "metadata": {
    "tags": []
   },
   "outputs": [
    {
     "name": "stdout",
     "output_type": "stream",
     "text": [
      "  1   shift                        v+(v+v)$                               [] 　('shift', 0)        \n",
      "------------------------------------------------------------------------------------------\n",
      "  2  reduce   v                    +(v+v)$                               [0] 　('reduce', 1, 'T')  \n",
      "------------------------------------------------------------------------------------------\n",
      "  3  reduce   T                    +(v+v)$                               [0] 　('reduce', 1, 'E')  \n",
      "------------------------------------------------------------------------------------------\n",
      "  4   shift   E                    +(v+v)$                               [0] 　('shift', 1)        \n",
      "------------------------------------------------------------------------------------------\n",
      "  5   shift   E +                  (v+v)$                             [1, 0] 　('shift', 2)        \n",
      "------------------------------------------------------------------------------------------\n",
      "  6   shift   E + (                v+v)$                           [2, 1, 0] 　('shift', 3)        \n",
      "------------------------------------------------------------------------------------------\n",
      "  7  reduce   E + ( v              +v)$                         [3, 2, 1, 0] 　('reduce', 1, 'T')  \n",
      "------------------------------------------------------------------------------------------\n",
      "  8  reduce   E + ( T              +v)$                         [3, 2, 1, 0] 　('reduce', 1, 'E')  \n",
      "------------------------------------------------------------------------------------------\n",
      "  9   shift   E + ( E              +v)$                         [3, 2, 1, 0] 　('shift', 4)        \n",
      "------------------------------------------------------------------------------------------\n",
      " 10   shift   E + ( E +            v)$                       [4, 3, 2, 1, 0] 　('shift', 2)        \n",
      "------------------------------------------------------------------------------------------\n",
      " 11  reduce   E + ( E + v          )$                     [2, 4, 3, 2, 1, 0] 　('reduce', 1, 'T')  \n",
      "------------------------------------------------------------------------------------------\n",
      " 12  reduce   E + ( E + T          )$                     [2, 4, 3, 2, 1, 0] 　('reduce', 3, 'E')  \n",
      "------------------------------------------------------------------------------------------\n",
      " 13   shift   E + ( E              )$                           [3, 2, 1, 0] 　('shift', 4)        \n",
      "------------------------------------------------------------------------------------------\n",
      " 14  reduce   E + ( E )            $                         [4, 3, 2, 1, 0] 　('reduce', 3, 'T')  \n",
      "------------------------------------------------------------------------------------------\n",
      " 15  reduce   E + T                $                               [2, 1, 0] 　('reduce', 3, 'E')  \n",
      "------------------------------------------------------------------------------------------\n",
      " 16   shift   E                    $                                     [0] 　('shift', 1)        \n",
      "------------------------------------------------------------------------------------------\n"
     ]
    },
    {
     "data": {
      "text/plain": [
       "('accept',)"
      ]
     },
     "execution_count": 102,
     "metadata": {},
     "output_type": "execute_result"
    }
   ],
   "source": [
    "    \n",
    "def parse(chars):\n",
    "    stack = []\n",
    "    action = ('shift',0)  # first action is to shift the 1st char and go to state 0\n",
    "    states = []\n",
    "    counter = 0\n",
    "    \n",
    "    while action[0] not in {'error','accept'} and counter<100:\n",
    "        counter += 1\n",
    "        stackr = stack[::-1]\n",
    "        print(\"%3d %7s   %-20s %-20s %+20s 　%-20s\"%\n",
    "              (counter,action[0],str(\" \".join(stackr)),\"\".join(chars),str(states),str(action)))\n",
    "        print('-'*90)\n",
    "        if action[0]=='shift':\n",
    "            stack = [chars[0]]+ stack\n",
    "            new_state = action[1]\n",
    "            new_action = actions[new_state][chars[0]]\n",
    "            action = new_action\n",
    "            chars = chars[1:]\n",
    "            states = [new_state]+states\n",
    "        elif action[0]=='reduce':\n",
    "            num_to_pop = action[1]   \n",
    "            new_non_terminal = action[2]\n",
    "            # instead of pushing the new non-terminal, we could push the parse tree for that nonterminal\n",
    "            stack = [new_non_terminal]+stack[num_to_pop:]\n",
    "            states = states[num_to_pop-1:]\n",
    "            action = actions[states[0]][new_non_terminal]\n",
    "    return action\n",
    "                        \n",
    "parse(list(\"v+(v+v)$\"))"
   ]
  },
  {
   "cell_type": "code",
   "execution_count": null,
   "id": "9014b1e8-3479-4ac5-80b1-7b9e2ba7dc39",
   "metadata": {},
   "outputs": [],
   "source": []
  }
 ],
 "metadata": {
  "kernelspec": {
   "display_name": "Python 3 (ipykernel)",
   "language": "python",
   "name": "python3"
  },
  "language_info": {
   "codemirror_mode": {
    "name": "ipython",
    "version": 3
   },
   "file_extension": ".py",
   "mimetype": "text/x-python",
   "name": "python",
   "nbconvert_exporter": "python",
   "pygments_lexer": "ipython3",
   "version": "3.10.7"
  }
 },
 "nbformat": 4,
 "nbformat_minor": 5
}
