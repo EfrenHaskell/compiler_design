{
 "cells": [
  {
   "cell_type": "markdown",
   "id": "548afbba-2d51-4a08-ab9f-153abc803ab3",
   "metadata": {},
   "source": [
    "# NFA and DFA algorithms"
   ]
  },
  {
   "cell_type": "markdown",
   "id": "bacd5964-d587-4fa0-9e24-42cbc66eb407",
   "metadata": {},
   "source": [
    "Here is a dfa with 2 states, 0 and 1. where 0 is both a start and a final state"
   ]
  },
  {
   "cell_type": "code",
   "execution_count": 9,
   "id": "c4d8369f-35a7-4e3d-b903-90d4964de85d",
   "metadata": {
    "tags": []
   },
   "outputs": [],
   "source": [
    "dfa1 = {'start':0,'final':{0},'edges':{(0,1,'a'),(1,0,'b'),(1,0,'c')}}\n"
   ]
  },
  {
   "cell_type": "markdown",
   "id": "32b51b33-bcc0-4ed3-beea-14275ae45739",
   "metadata": {},
   "source": [
    "# Algorithm to check if a DFA accepts a string"
   ]
  },
  {
   "cell_type": "code",
   "execution_count": 10,
   "id": "70674213-fce7-41f4-920b-232ae33589ec",
   "metadata": {
    "tags": []
   },
   "outputs": [],
   "source": [
    "def edge(dfa,state,c):\n",
    "    next_states = [e[1] for e in dfa['edges'] if e[0]==state and e[2]==c]\n",
    "    if len(next_states)==1:\n",
    "        return next_states[0]\n",
    "    else:\n",
    "        return 'error'\n",
    "\n",
    "def accepts(dfa,chars):\n",
    "    state = dfa['start']\n",
    "    for i in range(len(chars)):\n",
    "        c = chars[i]\n",
    "        state1 = edge(dfa,state,c)\n",
    "        print('traverse edge',state,c,state1)\n",
    "        if state1=='error':\n",
    "            return False\n",
    "        else:\n",
    "            state=state1\n",
    "    return state in dfa['final']\n",
    "    "
   ]
  },
  {
   "cell_type": "code",
   "execution_count": 11,
   "id": "66b1bc93-18ee-4a70-8716-0ef04f1501c9",
   "metadata": {
    "tags": []
   },
   "outputs": [
    {
     "name": "stdout",
     "output_type": "stream",
     "text": [
      "traverse edge 0 a 1\n",
      "traverse edge 1 b 0\n",
      "traverse edge 0 a 1\n",
      "traverse edge 1 c 0\n"
     ]
    },
    {
     "data": {
      "text/plain": [
       "True"
      ]
     },
     "execution_count": 11,
     "metadata": {},
     "output_type": "execute_result"
    }
   ],
   "source": [
    "accepts(dfa1,'abac')"
   ]
  },
  {
   "cell_type": "markdown",
   "id": "c2949305-0e0a-4431-8393-f2af25e25cf3",
   "metadata": {},
   "source": [
    "# The epsilon closure of a set of nodes"
   ]
  },
  {
   "cell_type": "code",
   "execution_count": 82,
   "id": "5ccd206f-5671-4f9e-9336-017e17a04a0a",
   "metadata": {
    "tags": []
   },
   "outputs": [],
   "source": [
    "def epsilon_edge(NFA,S):\n",
    "    ''' returns all states reachable from a state in s by an edge labelled epsilon '''\n",
    "    return {e[1] for e in NFA['edges'] if e[0] in S and e[2]=='epsilon'}\n",
    "\n",
    "def closure(NFA,S):\n",
    "    ''' returns set of states reachable from a state in S following epsilon edges'''\n",
    "    T=S\n",
    "    next_states = epsilon_edge(NFA,S)\n",
    "    #print('epsilon edges',T,'epsilon',T.union(next_states))\n",
    "    while not next_states.issubset(T):\n",
    "        T = T.union(next_states)\n",
    "        next_states = epsilon_edge(NFA,T)\n",
    "        #print('epsilon edges',T,'epsilon',T.union(next_states))\n",
    "    return T\n",
    "     \n"
   ]
  },
  {
   "cell_type": "code",
   "execution_count": 13,
   "id": "52298f97-93f3-43cc-90c5-89c372accef7",
   "metadata": {
    "tags": []
   },
   "outputs": [],
   "source": [
    "nfa1 = {'start':0,'final':{0,2},'edges':{(0,1,'a'),(1,0,'b'),(1,0,'c'),(1,2,'b'),(2,0,'c')}}"
   ]
  },
  {
   "cell_type": "code",
   "execution_count": 14,
   "id": "73fb3fb0-1332-40fa-89ee-2f75ab36ddea",
   "metadata": {
    "tags": []
   },
   "outputs": [],
   "source": [
    "nfa2 = {'start':0,'final':{0,2},\n",
    "        'edges':{(0,1,'epsilon'),(1,2,'epsilon'),(1,3,'epsilon'),(2,3,'epsilon'),\n",
    "                 (1,3,'a'),(2,2,'a'),(3,3,'b'),(2,3,'c'),(3,2,'epsilon')}}"
   ]
  },
  {
   "cell_type": "code",
   "execution_count": 15,
   "id": "e7807060-0b54-465f-9dec-f80fe3d29a15",
   "metadata": {
    "tags": []
   },
   "outputs": [
    {
     "name": "stdout",
     "output_type": "stream",
     "text": [
      "epsilon edges {0} epsilon {0, 1}\n",
      "epsilon edges {0, 1} epsilon {0, 1, 2, 3}\n",
      "epsilon edges {0, 1, 2, 3} epsilon {0, 1, 2, 3}\n"
     ]
    },
    {
     "data": {
      "text/plain": [
       "{0, 1, 2, 3}"
      ]
     },
     "execution_count": 15,
     "metadata": {},
     "output_type": "execute_result"
    }
   ],
   "source": [
    "closure(nfa2,{0})"
   ]
  },
  {
   "cell_type": "markdown",
   "id": "6a533da0-92a6-4108-813f-49a1ac818339",
   "metadata": {},
   "source": [
    "# NFA accepting a string"
   ]
  },
  {
   "cell_type": "code",
   "execution_count": 37,
   "id": "6816218a-2f7b-48b1-85ee-cf671ce7f73c",
   "metadata": {
    "tags": []
   },
   "outputs": [],
   "source": [
    "def dfa_edge(nfa,s,c):\n",
    "    ''' returns closure of all states reachable from a state in s by an edge labelled c '''\n",
    "    s1 = {e[1] for e in nfa['edges'] if e[0] in s and e[2]==c}\n",
    "    s2 = closure(nfa,s1)\n",
    "    return s2\n",
    "\n",
    "def is_final(nfa,state):\n",
    "    ''' return True if the nfa state is a final state \n",
    "        we also allow for a single final state instead of a set \n",
    "    '''\n",
    "    final_states = nfa['final']\n",
    "    final_states = final_states if (type(final_states)==set) else {nfa['final']}\n",
    "    return len(state.intersection(final_states))>0\n",
    "\n",
    "def nfa_accepts(nfa,chars):\n",
    "    ''' returns True if the nfa accepts the string of chars '''\n",
    "    state = closure(nfa,{nfa['start']})\n",
    "    for i in range(len(chars)):\n",
    "        c = chars[i]\n",
    "        state1=state\n",
    "        state = dfa_edge(nfa,state,c)\n",
    "        print('dfa_edge',state1,c,state)\n",
    "    return is_final(nfa,state)"
   ]
  },
  {
   "cell_type": "code",
   "execution_count": 38,
   "id": "15e8b8aa-6f07-4a41-841f-3f130831adfb",
   "metadata": {
    "tags": []
   },
   "outputs": [
    {
     "data": {
      "text/plain": [
       "True"
      ]
     },
     "execution_count": 38,
     "metadata": {},
     "output_type": "execute_result"
    }
   ],
   "source": [
    "is_final({'final':10},{10,11})"
   ]
  },
  {
   "cell_type": "code",
   "execution_count": 39,
   "id": "ff03aa1e-a0a9-49bb-90e8-4273bcb47615",
   "metadata": {
    "tags": []
   },
   "outputs": [
    {
     "name": "stdout",
     "output_type": "stream",
     "text": [
      "{'start': 0, 'final': {0, 2}, 'edges': {(1, 0, 'b'), (1, 2, 'b'), (0, 1, 'a'), (1, 0, 'c'), (2, 0, 'c')}}\n",
      "epsilon edges {0} epsilon {0}\n",
      "epsilon edges {1} epsilon {1}\n",
      "dfa_edge {0} a {1}\n",
      "epsilon edges {0, 2} epsilon {0, 2}\n",
      "dfa_edge {1} b {0, 2}\n",
      "epsilon edges {0} epsilon {0}\n",
      "dfa_edge {0, 2} c {0}\n",
      "epsilon edges {1} epsilon {1}\n",
      "dfa_edge {0} a {1}\n",
      "epsilon edges {0, 2} epsilon {0, 2}\n",
      "dfa_edge {1} b {0, 2}\n",
      "epsilon edges {1} epsilon {1}\n",
      "dfa_edge {0, 2} a {1}\n",
      "epsilon edges {0} epsilon {0}\n",
      "dfa_edge {1} c {0}\n"
     ]
    },
    {
     "data": {
      "text/plain": [
       "True"
      ]
     },
     "execution_count": 39,
     "metadata": {},
     "output_type": "execute_result"
    }
   ],
   "source": [
    "print(nfa1)\n",
    "nfa_accepts(nfa1,'abcabac')"
   ]
  },
  {
   "cell_type": "code",
   "execution_count": 18,
   "id": "17f17d73-e3cc-4ce0-9d0a-cde2d3e3363c",
   "metadata": {
    "tags": []
   },
   "outputs": [
    {
     "name": "stdout",
     "output_type": "stream",
     "text": [
      "epsilon edges {0} epsilon {0, 1}\n",
      "epsilon edges {0, 1} epsilon {0, 1, 2, 3}\n",
      "epsilon edges {0, 1, 2, 3} epsilon {0, 1, 2, 3}\n",
      "epsilon edges {2, 3} epsilon {2, 3}\n",
      "dfa_edge {0, 1, 2, 3} a {2, 3}\n",
      "epsilon edges {3} epsilon {2, 3}\n",
      "epsilon edges {2, 3} epsilon {2, 3}\n",
      "dfa_edge {2, 3} b {2, 3}\n",
      "epsilon edges {2} epsilon {2, 3}\n",
      "epsilon edges {2, 3} epsilon {2, 3}\n",
      "dfa_edge {2, 3} a {2, 3}\n",
      "epsilon edges {2} epsilon {2, 3}\n",
      "epsilon edges {2, 3} epsilon {2, 3}\n",
      "dfa_edge {2, 3} a {2, 3}\n",
      "epsilon edges {3} epsilon {2, 3}\n",
      "epsilon edges {2, 3} epsilon {2, 3}\n",
      "dfa_edge {2, 3} c {2, 3}\n"
     ]
    },
    {
     "data": {
      "text/plain": [
       "True"
      ]
     },
     "execution_count": 18,
     "metadata": {},
     "output_type": "execute_result"
    }
   ],
   "source": [
    "nfa_accepts(nfa2,'abaac')"
   ]
  },
  {
   "cell_type": "markdown",
   "id": "415df676-d729-4162-a63b-6b0a1e9ee27a",
   "metadata": {},
   "source": [
    "# Homework problem 1: longest match\n",
    "Define the function longest match which returns the longest prefix of a string accepted by the NFA (or DFA)"
   ]
  },
  {
   "cell_type": "markdown",
   "id": "0697db86-04e7-48e2-a18c-17689f14e11b",
   "metadata": {},
   "source": [
    "# NFA to DFA\n",
    "To convert an NFA to a DFA we do a breadth first search of the graph of NFA states\n",
    "that are reachable from the start state with dfa_edge\n",
    "\n",
    "# Homework problem 2: nfa to dfa\n",
    "Write the nfa_to_dfa(nfa) function\n",
    "\n",
    "# NFA with multiple final states\n",
    "A tokenizer will have different final states for different tokens\n",
    "and the final states should be listed in priority, so if a token matches 2 final state,\n",
    "then the first one determines the token. \n",
    "\n",
    "# Homework problem 3: Tokenizer\n",
    "Write a tokenizer which accepts a list of token definitions of the form\n",
    "```\n",
    "(token_name,  NFA)\n",
    "```\n",
    "and generates a DFA for recognizing those tokens!"
   ]
  },
  {
   "cell_type": "markdown",
   "id": "2e4ba75e-3385-4886-85e7-c8d738ce3eb7",
   "metadata": {},
   "source": [
    "# Regular Expressions to DFAs\n"
   ]
  },
  {
   "cell_type": "code",
   "execution_count": 19,
   "id": "23af6af5-b0f7-413f-af1a-526c25c11e1d",
   "metadata": {
    "tags": []
   },
   "outputs": [],
   "source": [
    "def star(R):\n",
    "    return ('star',R)\n",
    "def bar(R1,R2):\n",
    "    return ('bar',R1,R2)\n",
    "def dot(R1,R2):\n",
    "    return ('dot',R1,R2)\n"
   ]
  },
  {
   "cell_type": "code",
   "execution_count": 46,
   "id": "3277057b-13ad-4a4c-bf89-ac5b2c0f9d09",
   "metadata": {
    "tags": []
   },
   "outputs": [
    {
     "data": {
      "text/plain": [
       "('star', ('dot', 'a', ('bar', 'b', 'c')))"
      ]
     },
     "execution_count": 46,
     "metadata": {},
     "output_type": "execute_result"
    }
   ],
   "source": [
    "star(dot('a',bar('b','c')))"
   ]
  },
  {
   "cell_type": "code",
   "execution_count": 77,
   "id": "76ad6a56-d469-41dd-9854-20a044f0e164",
   "metadata": {
    "tags": []
   },
   "outputs": [],
   "source": [
    "def convert_RE_to_NFA(RE,start):\n",
    "    ''' \n",
    "        The idea is to generate an NFA from a regular expression\n",
    "        and to give it a starting number for the states and keep track of the highest state generated\n",
    "    '''\n",
    "    if type(RE)==str:\n",
    "        return {'start':start,'final':start+1,'last':start+1,'edges':((start,start+1,RE),)}\n",
    "    elif RE[0]=='dot':\n",
    "        R1 = convert_RE_to_NFA(RE[1],start+2)\n",
    "        R2 = convert_RE_to_NFA(RE[2],R1['last']+1)\n",
    "        #print('dot r1',RE,'\\n',R1)\n",
    "        #print('dot r2',RE,'\\n',R2)\n",
    "        return {'start':start,'final':start+1,'last':R2['last'],\n",
    "            'edges':((start,R1['start'],'epsilon'),)\n",
    "                     +R1['edges'] \n",
    "                    + ((R1['final'],R2['start'],'epsilon'),)\n",
    "                     +R2['edges']\n",
    "                     + ((R2['final'],start+1,'epsilon'),)}\n",
    "\n",
    "    elif RE[0]=='bar':\n",
    "        R1 = convert_RE_to_NFA(RE[1],start+2)\n",
    "        R2 = convert_RE_to_NFA(RE[2],R1['last']+1)\n",
    "        #print('bar r1',RE,'\\n',R1)\n",
    "        #print('bar r2',RE,'\\n',R2)\n",
    "        return {'start':start,'final':start+1,'last':R2['last'],\n",
    "            'edges':(     (start,R1['start'],'epsilon'),) \n",
    "                        + R1['edges']\n",
    "                        + ((R1['final'],start+1,'epsilon'),(start,R2['start'],'epsilon'),) \n",
    "                        + R2['edges']+\n",
    "                          ((R2['final'],start+1,'epsilon'),)  }\n",
    "    elif RE[0]=='star':\n",
    "        R1 = convert_RE_to_NFA(RE[1],start+2)\n",
    "        #print('star r1',RE,'\\n',R1)\n",
    "        return {'start':start,'final':start+1,'last':R1['last'],\n",
    "            'edges':((start,R1['start'],'epsilon'),\n",
    "                     (R1['start'],start+1,'epsilon'))  \n",
    "                    + R1['edges'] \n",
    "                    + ((R1['final'],R1['start'],'epsilon'),)}\n"
   ]
  },
  {
   "cell_type": "code",
   "execution_count": 78,
   "id": "12a290b8-304e-45e4-9557-15deebd53729",
   "metadata": {
    "tags": []
   },
   "outputs": [
    {
     "data": {
      "text/plain": [
       "{'start': 10,\n",
       " 'final': 11,\n",
       " 'last': 21,\n",
       " 'edges': ((10, 12, 'epsilon'),\n",
       "  (12, 11, 'epsilon'),\n",
       "  (12, 14, 'epsilon'),\n",
       "  (14, 15, 'a'),\n",
       "  (15, 16, 'epsilon'),\n",
       "  (16, 18, 'epsilon'),\n",
       "  (18, 19, 'b'),\n",
       "  (19, 17, 'epsilon'),\n",
       "  (16, 20, 'epsilon'),\n",
       "  (20, 21, 'c'),\n",
       "  (21, 17, 'epsilon'),\n",
       "  (17, 13, 'epsilon'),\n",
       "  (13, 12, 'epsilon'))}"
      ]
     },
     "execution_count": 78,
     "metadata": {},
     "output_type": "execute_result"
    }
   ],
   "source": [
    "NFA0 = convert_RE_to_NFA(star(dot('a',bar('b','c'))),10)\n",
    "NFA0"
   ]
  },
  {
   "cell_type": "code",
   "execution_count": 83,
   "id": "15d26639-92c1-4840-94a2-593d2b0594df",
   "metadata": {
    "tags": []
   },
   "outputs": [
    {
     "name": "stdout",
     "output_type": "stream",
     "text": [
      "dfa_edge {10, 11, 12, 14} a {16, 18, 20, 15}\n",
      "dfa_edge {16, 18, 20, 15} b {11, 12, 13, 14, 17, 19}\n",
      "dfa_edge {11, 12, 13, 14, 17, 19} a {16, 18, 20, 15}\n",
      "dfa_edge {16, 18, 20, 15} c {11, 12, 13, 14, 17, 21}\n",
      "dfa_edge {11, 12, 13, 14, 17, 21} a {16, 18, 20, 15}\n",
      "dfa_edge {16, 18, 20, 15} c {11, 12, 13, 14, 17, 21}\n"
     ]
    },
    {
     "data": {
      "text/plain": [
       "True"
      ]
     },
     "execution_count": 83,
     "metadata": {},
     "output_type": "execute_result"
    }
   ],
   "source": [
    "nfa_accepts(NFA0,'abacac')"
   ]
  },
  {
   "cell_type": "code",
   "execution_count": null,
   "id": "fcd0622a-d926-46be-bd50-d805f557fe55",
   "metadata": {},
   "outputs": [],
   "source": []
  }
 ],
 "metadata": {
  "kernelspec": {
   "display_name": "Python 3 (ipykernel)",
   "language": "python",
   "name": "python3"
  },
  "language_info": {
   "codemirror_mode": {
    "name": "ipython",
    "version": 3
   },
   "file_extension": ".py",
   "mimetype": "text/x-python",
   "name": "python",
   "nbconvert_exporter": "python",
   "pygments_lexer": "ipython3",
   "version": "3.10.7"
  }
 },
 "nbformat": 4,
 "nbformat_minor": 5
}
